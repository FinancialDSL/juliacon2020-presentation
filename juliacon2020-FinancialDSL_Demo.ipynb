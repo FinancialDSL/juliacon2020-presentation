{
 "cells": [
  {
   "cell_type": "code",
   "execution_count": null,
   "metadata": {},
   "outputs": [],
   "source": [
    "import Pkg\n",
    "Pkg.activate(@__DIR__)\n",
    "Pkg.instantiate()"
   ]
  },
  {
   "cell_type": "code",
   "execution_count": null,
   "metadata": {},
   "outputs": [],
   "source": [
    "import FinancialDSL\n",
    "using Dates\n",
    "\n",
    "import FinancialDSL.Currencies.BRL\n",
    "import FinancialDSL.Currencies.USD\n",
    "\n",
    "import FinancialDSL.Core.WhenAt\n",
    "import FinancialDSL.Core.Unit\n",
    "import FinancialDSL.Core.Scale\n",
    "import FinancialDSL.Core.Both\n",
    "import FinancialDSL.Core.Amount\n",
    "import FinancialDSL.Core.Either\n",
    "import FinancialDSL.Core.Give\n",
    "import FinancialDSL.Core.Worthless\n",
    "import FinancialDSL.Core.SpotCurrency\n",
    "import FinancialDSL.Core.DiscountFactor\n",
    "import FinancialDSL.Core.Stock\n",
    "import FinancialDSL.Core.Volatility\n",
    "\n",
    "import FinancialDSL.Core.FixedIncomeEvent\n",
    "import FinancialDSL.Core.FixedIncomeContract\n",
    "\n",
    "import FinancialDSL.Core.StaticHedgingModel\n",
    "import FinancialDSL.Core.FutureValueModel\n",
    "import FinancialDSL.Core.BinomialModelDaily\n",
    "\n",
    "import FinancialDSL.Core.FixedScenario\n",
    "\n",
    "import FinancialDSL.Core.ContractAttributes\n",
    "import FinancialDSL.Core.compile_pricer\n",
    "import FinancialDSL.Core.compile_cashflow_pricer\n",
    "import FinancialDSL.Core.price\n",
    "import FinancialDSL.Core.eachcashflow\n",
    "\n",
    "import FinancialDSL.Core.DeltaNormalExposuresMethod\n",
    "import FinancialDSL.Core.DeltaGammaApproxExposuresMethod\n",
    "import FinancialDSL.Core.exposures\n",
    "\n",
    "import BusinessDays, InterestRates"
   ]
  },
  {
   "cell_type": "code",
   "execution_count": null,
   "metadata": {},
   "outputs": [],
   "source": [
    "c1 = WhenAt(Date(2021, 1, 2), Amount(200USD))\n",
    "c2 = WhenAt(Date(2030, 1, 2), Amount(800USD))\n",
    "c = Both(c1, c2)"
   ]
  },
  {
   "cell_type": "code",
   "execution_count": null,
   "metadata": {},
   "outputs": [],
   "source": [
    "c_exercise = Both(Amount(1USD), Give(Amount(4BRL)))\n",
    "c_opt = WhenAt(Date(2021, 1, 2), Either(c_exercise, Worthless()))"
   ]
  },
  {
   "cell_type": "markdown",
   "metadata": {},
   "source": [
    "# Forward FX Contact"
   ]
  },
  {
   "cell_type": "markdown",
   "metadata": {},
   "source": [
    "$$ payoff = S_T - K $$"
   ]
  },
  {
   "cell_type": "code",
   "execution_count": null,
   "metadata": {},
   "outputs": [],
   "source": [
    "k = 2.9 * 0.9 / 0.7 * BRL\n",
    "s = 1USD\n",
    "currency_fwd = WhenAt(Date(2019, 1, 2), Both( Amount(s), Give(Amount(k)) ))"
   ]
  },
  {
   "cell_type": "markdown",
   "metadata": {},
   "source": [
    "* Textbook pricing formula\n",
    "\n",
    "$$ f(S, PU_{cc}, PU_{PRE}) = S PU_{CC} - K PU_{PRE} $$\n",
    "\n",
    "* Gradient\n",
    "\n",
    "$$ \\frac{\\partial f}{\\partial S} = PU_{cc} $$\n",
    "\n",
    "$$ \\frac{\\partial f}{\\partial PU_{CC}} = S $$\n",
    "\n",
    "$$ \\frac{\\partial f}{\\partial PU_{PRE}} = -K $$\n",
    "\n",
    "Assuming normal distributions of returns for Risk Factors (delta-normal method)\n",
    "\n",
    "If $K = 3.72857$ and current scenario is $ S = 2.9 $, $ PU_{PRE} = 0.7 $ and $ PU_{CC} = 0.9 $ , then:\n",
    "\n",
    "$$ f = 0 $$\n",
    "\n",
    "$$ EXP_S = S \\frac{\\partial f}{\\partial S} = 2.61 $$\n",
    "\n",
    "$$ EXP_{PU_{CC}} = PU_{CC} \\frac{\\partial f}{\\partial PU_{CC}} = 2.61 $$\n",
    "\n",
    "$$ EXP_{PU_{PRE}} = PU_{PRE} \\frac{\\partial f}{\\partial PU_{PRE}} = -2.61 $$"
   ]
  },
  {
   "cell_type": "code",
   "execution_count": null,
   "metadata": {},
   "outputs": [],
   "source": [
    "pricing_date = Date(2018, 5, 29)\n",
    "\n",
    "# pricing model\n",
    "currency_to_curves_map = Dict( \"onshore\" => Dict( :BRL => :PRE, :USD => :cpUSD ))\n",
    "static_model = StaticHedgingModel(BRL, currency_to_curves_map)\n",
    "\n",
    "# Scenario\n",
    "scenario = FixedScenario()\n",
    "scenario[SpotCurrency(USD)] = 2.9BRL # dolar price in BRL\n",
    "scenario[DiscountFactor(:PRE, Date(2019, 1, 2))] = 0.7 # Discount for BRL curve\n",
    "scenario[DiscountFactor(:cpUSD, Date(2019, 1, 2))] = 0.9 # Discount for USD curve\n",
    "\n",
    "# contract attributes\n",
    "attr = ContractAttributes(:riskfree_curves => \"onshore\", :carry_type => \"none\")\n",
    "\n",
    "# pricer\n",
    "pricer_currency_fwd = compile_pricer(pricing_date, static_model, currency_fwd, attr)\n",
    "\n",
    "# executes the pricing function\n",
    "price(pricer_currency_fwd, scenario)"
   ]
  },
  {
   "cell_type": "code",
   "execution_count": null,
   "metadata": {},
   "outputs": [],
   "source": [
    "exposures_result = exposures(\n",
    "    DeltaNormalExposuresMethod(),\n",
    "    pricer_currency_fwd,\n",
    "    scenario)\n",
    "\n",
    "for (k, v) in exposures_result\n",
    "    println(\"Exposure for $k = $v\")\n",
    "end"
   ]
  },
  {
   "cell_type": "code",
   "execution_count": null,
   "metadata": {},
   "outputs": [],
   "source": [
    "pricer_currency_fwd"
   ]
  },
  {
   "cell_type": "code",
   "execution_count": null,
   "metadata": {},
   "outputs": [],
   "source": [
    "@time pricer_interpreted = compile_pricer(pricing_date, static_model, currency_fwd, attr)"
   ]
  },
  {
   "cell_type": "code",
   "execution_count": null,
   "metadata": {},
   "outputs": [],
   "source": [
    "@time pricer_native = compile_pricer(pricing_date, static_model, currency_fwd, attr, compiler=:native)"
   ]
  },
  {
   "cell_type": "code",
   "execution_count": null,
   "metadata": {},
   "outputs": [],
   "source": [
    "price(pricer_interpreted, scenario)"
   ]
  },
  {
   "cell_type": "code",
   "execution_count": null,
   "metadata": {},
   "outputs": [],
   "source": [
    "price(pricer_native, scenario)"
   ]
  },
  {
   "cell_type": "code",
   "execution_count": null,
   "metadata": {},
   "outputs": [],
   "source": [
    "@time price(pricer_interpreted, scenario)"
   ]
  },
  {
   "cell_type": "code",
   "execution_count": null,
   "metadata": {},
   "outputs": [],
   "source": [
    "@time price(pricer_native, scenario)"
   ]
  },
  {
   "cell_type": "markdown",
   "metadata": {},
   "source": [
    "# Fixed Income Contracts"
   ]
  },
  {
   "cell_type": "code",
   "execution_count": null,
   "metadata": {},
   "outputs": [],
   "source": [
    "c = FixedIncomeEvent(:AMORT, WhenAt(Date(2020, 2, 1), Amount(10.0BRL)))\n",
    "c2 = FixedIncomeEvent(:INTEREST, WhenAt(Date(2019, 2, 1), Amount(5.0BRL)))\n",
    "fi_contract = FixedIncomeContract([c, c2])"
   ]
  },
  {
   "cell_type": "code",
   "execution_count": null,
   "metadata": {},
   "outputs": [],
   "source": [
    "pricing_date = Date(2018, 5, 29)\n",
    "currency_to_curves_map = Dict( \"onshore\" => Dict( :BRL => :PRE, :USD => :cpUSD ))\n",
    "static_model = StaticHedgingModel(BRL, currency_to_curves_map)\n",
    "fv_model = FutureValueModel(static_model)\n",
    "attr = ContractAttributes(:riskfree_curves => \"onshore\", :carry_type => \"none\")\n",
    "\n",
    "empty_scenario = FixedScenario()\n",
    "pricer = compile_cashflow_pricer(pricing_date, fv_model, fi_contract, attr)\n",
    "\n",
    "for cf in eachcashflow(pricer, empty_scenario)\n",
    "    println(cf)\n",
    "end"
   ]
  },
  {
   "cell_type": "markdown",
   "metadata": {},
   "source": [
    "# Binomial Model"
   ]
  },
  {
   "cell_type": "code",
   "execution_count": null,
   "metadata": {},
   "outputs": [],
   "source": [
    "put = FinancialDSL.Core.american_put(:PETR4, 20.0BRL, Date(2020, 5, 19))"
   ]
  },
  {
   "cell_type": "code",
   "execution_count": null,
   "metadata": {},
   "outputs": [],
   "source": [
    "pricing_date = Date(2020, 5, 14)\n",
    "currency_to_curves_map = Dict(\n",
    "    \"onshore\" => Dict( :BRL => :PRE, :USD => :cpUSD, :PETR4 => Symbol(\"PETR4 DIVIDEND YIELD\") ))\n",
    "\n",
    "static_model = StaticHedgingModel(BRL, currency_to_curves_map)\n",
    "\n",
    "binomial_daily_model = BinomialModelDaily(\n",
    "    static_model,\n",
    "    Stock(:PETR4), InterestRates.BDays252(BusinessDays.BRSettlement()))\n",
    "\n",
    "attr = ContractAttributes(:riskfree_curves => \"onshore\", :carry_type => \"none\")\n",
    "\n",
    "scenario_fixed = FixedScenario()\n",
    "scenario_fixed[Stock(:PETR4)] = 20.0BRL\n",
    "scenario_fixed[DiscountFactor(:PRE, Date(2020, 5, 15))] = 0.9\n",
    "scenario_fixed[DiscountFactor(:PRE, Date(2020, 5, 18))] = 0.8\n",
    "scenario_fixed[DiscountFactor(:PRE, Date(2020, 5, 19))] = 0.7\n",
    "scenario_fixed[DiscountFactor(Symbol(\"PETR4 DIVIDEND YIELD\"), Date(2020, 5, 15))] = 0.95\n",
    "scenario_fixed[DiscountFactor(Symbol(\"PETR4 DIVIDEND YIELD\"), Date(2020, 5, 18))] = 0.93\n",
    "scenario_fixed[DiscountFactor(Symbol(\"PETR4 DIVIDEND YIELD\"), Date(2020, 5, 19))] = 0.91\n",
    "scenario_fixed[Volatility(FinancialDSL.Core.Stock(:PETR4))] = 2.00 # 200%\n",
    "\n",
    "put_pricer = compile_pricer(pricing_date, binomial_daily_model, put, attr)\n",
    "\n",
    "# pricing\n",
    "put_p = price(put_pricer, scenario_fixed)"
   ]
  },
  {
   "cell_type": "code",
   "execution_count": null,
   "metadata": {
    "scrolled": false
   },
   "outputs": [],
   "source": [
    "put_pricer"
   ]
  },
  {
   "cell_type": "code",
   "execution_count": null,
   "metadata": {},
   "outputs": [],
   "source": [
    "native_put_pricer = compile_pricer(pricing_date, binomial_daily_model, put, attr, compiler=:native)\n",
    "price(native_put_pricer, scenario_fixed)"
   ]
  },
  {
   "cell_type": "code",
   "execution_count": null,
   "metadata": {},
   "outputs": [],
   "source": [
    "# exposures\n",
    "put_exposures = exposures(DeltaGammaApproxExposuresMethod(), put_pricer, scenario_fixed)\n",
    "for (k, v) in put_exposures\n",
    "    println(\"Exposure for $k = $v\")\n",
    "end"
   ]
  },
  {
   "cell_type": "code",
   "execution_count": null,
   "metadata": {},
   "outputs": [],
   "source": [
    "native_put_exposures = FinancialDSL.Core.exposures(FinancialDSL.Core.DeltaGammaApproxExposuresMethod(), native_put_pricer, scenario_fixed)"
   ]
  },
  {
   "cell_type": "markdown",
   "metadata": {},
   "source": [
    "# Pricing ZCB with the Binomial Model"
   ]
  },
  {
   "cell_type": "code",
   "execution_count": null,
   "metadata": {},
   "outputs": [],
   "source": [
    "zcb = WhenAt(Date(2020, 5, 19), Amount(1000.0BRL))"
   ]
  },
  {
   "cell_type": "code",
   "execution_count": null,
   "metadata": {},
   "outputs": [],
   "source": [
    "pricing_date = Date(2020, 5, 14)\n",
    "\n",
    "attr = ContractAttributes(:riskfree_curves => \"onshore\", :carry_type => \"none\")\n",
    "\n",
    "pricer = compile_pricer(pricing_date, binomial_daily_model, zcb, attr)\n",
    "p = price(pricer, scenario_fixed) # should result 1000 * 0.7"
   ]
  },
  {
   "cell_type": "code",
   "execution_count": null,
   "metadata": {},
   "outputs": [],
   "source": [
    "zcb_exposures = exposures(DeltaGammaApproxExposuresMethod(), pricer, scenario_fixed)"
   ]
  },
  {
   "cell_type": "code",
   "execution_count": null,
   "metadata": {
    "scrolled": false
   },
   "outputs": [],
   "source": [
    "pricer"
   ]
  },
  {
   "cell_type": "code",
   "execution_count": null,
   "metadata": {},
   "outputs": [],
   "source": []
  }
 ],
 "metadata": {
  "kernelspec": {
   "display_name": "Julia 1.4.2",
   "language": "julia",
   "name": "julia-1.4"
  },
  "language_info": {
   "file_extension": ".jl",
   "mimetype": "application/julia",
   "name": "julia",
   "version": "1.4.2"
  }
 },
 "nbformat": 4,
 "nbformat_minor": 4
}
